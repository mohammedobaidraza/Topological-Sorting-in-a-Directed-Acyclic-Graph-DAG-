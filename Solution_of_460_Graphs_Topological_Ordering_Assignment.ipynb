{
  "nbformat": 4,
  "nbformat_minor": 0,
  "metadata": {
    "colab": {
      "provenance": []
    },
    "kernelspec": {
      "name": "python3",
      "display_name": "Python 3"
    },
    "language_info": {
      "name": "python"
    }
  },
  "cells": [
    {
      "cell_type": "markdown",
      "source": [
        "# Graphs - Topological Ordering\n",
        "\n",
        "\n",
        "Assuming that every dag has at least one source vertex, we can prove that **every dag has a topological ordering** $f$. For the graph of our class example:\n",
        "\n",
        "\n",
        "\n",
        "![Picture](https://drive.google.com/uc?id=1dpN4pcuN76vivkJNe9VOMtoskICZ-6_1)\n",
        "\n",
        "\n",
        "the topological ordering is\n",
        "\n",
        "$$\n",
        "f(v_0) = 1,\\ f(v_2) = 2,\\ f(v_1) = 3,\\ f(v_4) = 4,\\ f(v_3) = 5\n",
        "$$\n",
        "\n",
        "The values $f$ show the order in which the vertices can be deployed linearly while preserving all edges pointing forward.\n",
        "\n",
        "\n",
        "The proof is quite simple for a graph $G=(V,E)$. Assuming that $v_1$ is the source vertex of the graph, we assign it the first $f$ value: $f(v_1)=1$. Next, we **hypothetically** remove $v_1$ and all its edges from $G$, resulting into a subgraph $G'$ which is also a dag. As such, it has at least one source vertex, let's say $v_2$. We assign the next $f$ value to $v_2$, and remove it and its edges from $G'$ (again hypothetically). The resulting subgraph $G''$ is also a dag, has a source vertex, and so on. The recursion eventually stops (when it reaches a sink vertex). As we move from subgraph to subgraph in this process, for example from $G$ to $G'$ to $G''$ etc, we eliminate the outgoing edges of $G'$'s source, i.e., its forward edges. As we line up $v_1$ from $G$, $v_2$ from $G'$ etc, their edges point forward.\n",
        "\n",
        "Let's apply the proof to the graph below. The source vertex is `0`.\n",
        "\n",
        "![Picture](https://drive.google.com/uc?id=1dq0yk36J4KONWB-1MkfKeyog4WHpqjDV)\n",
        "\n",
        "\n",
        "\n",
        "In step (a) above, we (pretend to) remove the source vertex `0` and its edges. We also assign $f(0)=1$ by placing vertex `0` at the start of the linear representation of the graph.\n",
        "\n",
        "The remaining subgraph in step (b) has two source vertices. We'll process them one at a time, beginning by (pretend-)removing vertex `2`. That leaves the subgraph in step (c) with one source and we remove vertex `1`. The subgraph in step (d) also has one source, vertex `4`, that we remove. There is only one vertex left in step (e) which is where our process stops.\n",
        "\n",
        "The rearrangement of vertices on a line, in the order they were removed, is the topological ordering of the graph. All the edges in the topological ordering point forward."
      ],
      "metadata": {
        "id": "Gq38YOF5lsid"
      }
    },
    {
      "cell_type": "markdown",
      "source": [
        "Of course we don't really want to be removing and deleting elements from the graph; that will destroy the graph. We wish to maintain the effects of removal, without damaging the graph. What happens when we **pretend** to remove vertices and their outgoing edges? The in-degree of the vertices where those edges are pointing, is reduced.\n",
        "\n",
        "In the second step (b), vertex `4` loses an incoming edge since we remove vertex `2` and its outgoing edges. So the in-degree of vertex `4` becomes 1. In step (c) above, the in-degree of vertex `4` drops to 0. Vertex `4` is now a source vertex and we can process it next by removing its outgoing edges: effectively that reduces the in-degree of its successor vertices by 1.\n",
        "\n",
        "Consider an array, `in_deg`, such that `in_deg[i]` is the in-degree of vertex with label `i`. Originally, we have `in_deg = [0, 1, 1, 2, 2]`. Then, through successive removals of source vertices we have:\n",
        "\n",
        "* Step (a): `in_deg = [0, 0, 0, 2, 2]` due to removal of edges `(0,1)` and `(0,2)`. Source vertex is `0`.\n",
        "\n",
        "* Step (b): `in_deg = [0, 0, 0, 2, 1]` due to removal of edge `(2,4)`. Source vertex is `2`.\n",
        "\n",
        "* Step (c): `in_deg = [0, 0, 0, 1, 0]` due to removal of edges `(1,4)` and `(1,3)`. Source vertex is `1`.\n",
        "\n",
        "* Step (d): `in_deg = [0, 0, 0, 0, 0]` due to removal of edge `(4,3)`. Source vertex is `4`.\n",
        "\n",
        "* Step (e): No further edge removals are possible. Source vertex is `3`.\n",
        "\n",
        "\n",
        "Assembling the source vertices in the order they appear above, we have `0, 2, 1, 4, 3` which is the topological ordering of the graph.\n"
      ],
      "metadata": {
        "id": "DFMZbDwEhp3a"
      }
    },
    {
      "cell_type": "markdown",
      "source": [
        "## `in_degree` function\n",
        "\n",
        "The function below takes an *adjacency list* representation of a graph and computes the in-degree for each of its vertices. The graph for our example:\n",
        "\n",
        "\n",
        "![Picture](https://drive.google.com/uc?id=1dpN4pcuN76vivkJNe9VOMtoskICZ-6_1)\n",
        "\n",
        "\n",
        "can be represented by the adjacency matrix:\n",
        "\n",
        "$$ G =\n",
        "\n",
        "\\begin{bmatrix}\n",
        "0 & 1 & 1 & 0 & 0 \\\\\n",
        "0 & 0 & 0 & 1 & 1 \\\\\n",
        "0 & 0 & 0 & 0 & 1 \\\\\n",
        "0 & 0 & 0 & 0 & 0 \\\\\n",
        "0 & 0 & 0 & 1 & 0 \\\\\n",
        "\\end{bmatrix}\n",
        "$$\n",
        "\n",
        "The graph can also be represented by an adjacency list which is easily encoded in Python:\n",
        "\n",
        "```python\n",
        "G = [\n",
        "    [1, 2],    # Neighbors for vertex 0\n",
        "    [3, 4],    # Neighbors for vertex 1\n",
        "    [4],       # Neighbors for vertex 2\n",
        "    [],        # Neighbors for vertex 3\n",
        "    [3]        # Neighbors for vertex 4\n",
        "]\n",
        "```\n",
        "\n",
        "A Java implementation will be somehow cumbersome. We'll need to set up an `ArrayList` as a double list:\n",
        "```java\n",
        "List<List<Integer>> G = new ArrayList<>();\n",
        "```\n",
        "and then go through successive `add` and `get.add` steps; e.g:\n",
        "```java\n",
        "// Node 0\n",
        "G.add(new ArrayList<>());\n",
        "G.get(0).add(1);\n",
        "G.get(0).add(2);\n",
        "\n",
        "// Node 1\n",
        "G.add(new ArrayList<>());\n",
        "G.get(1).add(3);\n",
        "G.get(1).add(4);  // etc, etc\n",
        "```\n",
        "Doable, but not pretty. Python is far more versatile for our needs."
      ],
      "metadata": {
        "id": "vKFt_2i2Dfv9"
      }
    },
    {
      "cell_type": "code",
      "source": [
        "def in_degree(dag,v):\n",
        "  \"\"\"Compute the in-degree of a vertex in a dag. The method explores every list\n",
        "  in the adjacency list to see if the given vertex v is present. If it is,\n",
        "  there must be an edge point to it. For example, if vertex 3 is in the list of\n",
        "  neighbors for vertex 1, there must be an edge 1 --> 3. For each such edge,\n",
        "  the method increases the in-degree for vertex 3 and, in general, for the\n",
        "  specified vertex v.\n",
        "\n",
        "  Keywords:\n",
        "  dag -- the adjacency list of the graph.\n",
        "  v - the vertex whose in-degree we compute.\n",
        "  \"\"\"\n",
        "  # Initialize count\n",
        "  count = 0\n",
        "  # Check every neighborhood in the adjacency list\n",
        "  for neighborhood in dag:\n",
        "    # Is vertex v in the neighborhood?\n",
        "    if v in neighborhood:\n",
        "      # Then it must have an incoming edge towards it; increase its in-degree.\n",
        "      count += 1\n",
        "  # Done\n",
        "  return count"
      ],
      "metadata": {
        "id": "CfDhsIE5LxWj"
      },
      "execution_count": 2,
      "outputs": []
    },
    {
      "cell_type": "code",
      "source": [
        "# For testing purposes, this is the adjacency list of the graph used in the\n",
        "# write up of this notebook.\n",
        "G = [ [1,2], [3,4], [4], [], [3] ]"
      ],
      "metadata": {
        "id": "USJCCkNmZR6b"
      },
      "execution_count": 3,
      "outputs": []
    },
    {
      "cell_type": "markdown",
      "source": [
        "## Your assignment\n",
        "\n",
        "Implement the topological ordering algorithm described, as a proof, earlier in the notebook. The proof is inherently recursive. Your implementation may be recursive or iterative. Or, if you feel up to it, you can write two implementations: a recursive and an iterative one. If you go recursive, you may want to consider a helper function to kick in the recursion."
      ],
      "metadata": {
        "id": "3NkBA74RLpqH"
      }
    },
    {
      "cell_type": "markdown",
      "source": [
        "# SOLUTION"
      ],
      "metadata": {
        "id": "8T52ldhMxaSw"
      }
    },
    {
      "cell_type": "markdown",
      "source": [
        "## Recursive Implementation:\n"
      ],
      "metadata": {
        "id": "gfzqwcgKxhaH"
      }
    },
    {
      "cell_type": "code",
      "source": [],
      "metadata": {
        "id": "X3JkYAEk0vJy"
      },
      "execution_count": null,
      "outputs": []
    },
    {
      "cell_type": "code",
      "source": [
        "\n",
        "def topological_sort(graph):\n",
        "    \"\"\"Perform topological sorting on the given DAG using recursion.\"\"\"\n",
        "    visited = set()\n",
        "    stack = []\n",
        "\n",
        "    def dfs(node):\n",
        "        \"\"\"Depth-first traversal to process each node.\"\"\"\n",
        "        visited.add(node)\n",
        "        for neighbor in graph[node]:\n",
        "            if neighbor not in visited:\n",
        "                dfs(neighbor)\n",
        "        stack.append(node)\n",
        "\n",
        "    for node in range(len(graph)):\n",
        "        if node not in visited:\n",
        "            dfs(node)\n",
        "\n",
        "    return stack[::-1]\n",
        "\n",
        "# Above graph\n",
        "G = [[1, 2], [3, 4], [4], [], [3]]\n",
        "\n",
        "# Test the implementation\n",
        "print(\"Recursive Topological Sort:\", topological_sort(G))"
      ],
      "metadata": {
        "colab": {
          "base_uri": "https://localhost:8080/"
        },
        "id": "iHO-TNerj6ol",
        "outputId": "a2245781-311a-4d5b-9233-337d678eb0e6"
      },
      "execution_count": 16,
      "outputs": [
        {
          "output_type": "stream",
          "name": "stdout",
          "text": [
            "Recursive Topological Sort: [0, 2, 1, 4, 3]\n"
          ]
        }
      ]
    },
    {
      "cell_type": "markdown",
      "source": [
        "## Recursive Topological Sort Implementation\n",
        "\n",
        "### Depth-First Search (DFS)\n",
        "is an algorithm used to traverse or search through graphs, including directed acyclic graphs (DAGs).\n",
        "In the context of topological sorting, DFS explores each vertex and recursively visits all of its adjacent vertices (neighbors) that haven't been visited yet. Once a vertex and its descendants are fully explored, the vertex is added to a list.\n",
        "Once DFS finishes for all vertices, the list is reversed to produce a valid topological order where all edges point forward.\n",
        "\n",
        "I have implemented a recursive Depth-First Search (DFS) algorithm to perform topological sorting on a Directed Acyclic Graph (DAG). Here's a brief overview of how it works:\n",
        "\n",
        "1. It initializes a boolean list `visited` to keep track of visited vertices and an empty list `topo_order` to store the topological order.\n",
        "\n",
        "2. The `DFS` function performs a depth-first traversal:\n",
        "   - It marks the current vertex as visited.\n",
        "   - Recursively explores unvisited neighbors.\n",
        "   - Adds the current vertex to `topo_order` after exploring all neighbors.\n",
        "\n",
        "3. The main function iterates through all vertices, calling `dfs` on unvisited ones.\n",
        "\n",
        "4. Finally, it reverses `topo_order` to get the correct topological ordering.\n",
        "\n",
        "This implementation ensures that for any edge u → v in the graph, u comes before v in the final ordering, which is the key property of a topological sort."
      ],
      "metadata": {
        "id": "4rOxytPwkdKJ"
      }
    },
    {
      "cell_type": "markdown",
      "source": [
        "# Iterative Implementation:"
      ],
      "metadata": {
        "id": "5hsDaHASx0Hh"
      }
    },
    {
      "cell_type": "code",
      "source": [
        "from collections import defaultdict, deque\n",
        "\n",
        "def topological_sort(graph):\n",
        "    \"\"\"Perform topological sorting on the given DAG iteratively.\"\"\"\n",
        "    in_degree = defaultdict(int)\n",
        "    for u in graph:\n",
        "        for v in graph[u]:\n",
        "            in_degree[v] += 1\n",
        "\n",
        "    # Queue to keep track of vertices with zero in-degree\n",
        "    zero_in_deg = deque([u for u in graph if in_degree[u] == 0])\n",
        "\n",
        "    topo_order = []\n",
        "\n",
        "    while zero_in_deg:\n",
        "        u = zero_in_deg.popleft()\n",
        "        topo_order.append(u)\n",
        "\n",
        "        for v in graph[u]:\n",
        "            in_degree[v] -= 1\n",
        "            if in_degree[v] == 0:\n",
        "                zero_in_deg.append(v)\n",
        "\n",
        "    if len(topo_order) != len(graph):\n",
        "        raise ValueError(\"Graph contains a cycle\")\n",
        "\n",
        "    return topo_order\n",
        "\n",
        "# Test on the provided graph:\n",
        "G = {0: [1, 2], 1: [3, 4], 2: [4], 3: [], 4: [3]}\n",
        "print(\"Optimized Iterative Topological Sort:\", topological_sort(G))"
      ],
      "metadata": {
        "colab": {
          "base_uri": "https://localhost:8080/"
        },
        "id": "FK3dCYK7lVnn",
        "outputId": "7e762368-abd4-426e-9a84-912131921112"
      },
      "execution_count": 17,
      "outputs": [
        {
          "output_type": "stream",
          "name": "stdout",
          "text": [
            "Optimized Iterative Topological Sort: [0, 1, 2, 4, 3]\n"
          ]
        }
      ]
    },
    {
      "cell_type": "markdown",
      "source": [
        "## Iterative Implementation\n",
        "\n",
        "Topological Sort is a linear ordering of vertices in a Directed Acyclic Graph (DAG) where, for any directed edge\n",
        "𝑢\n",
        "→\n",
        "𝑣\n",
        "u→v, vertex\n",
        "𝑢\n",
        "u comes before vertex\n",
        "𝑣\n",
        "v in the ordering. The iterative approach to topological sorting uses a queue and in-degree computation to achieve this.\n",
        "\n",
        "I have implemented an iterative topological sort algorithm to perform\n",
        "topological sorting on a DAG. Here's a brief overview of how it works:\n",
        "\n",
        "\n",
        "1. It computes the in-degree of each vertex (i.e., the number of incoming edges for each vertex).\n",
        "2. A queue is initialized to store all vertices with in-degree 0 (vertices that have no incoming edges).\n",
        "3. An empty list, topo_order, is used to store the topological order.\n",
        "\n",
        "\n",
        "\n",
        "\n",
        "The main iterative process is as follows:\n",
        "\n",
        "*  Vertices with in-degree 0 are dequeued and added to topo_order.\n",
        "*  For each dequeued vertex, its neighbors' in-degrees are decreased by 1\n",
        "* If a neighbor’s in-degree becomes 0, it is enqueued to be processed next.\n",
        "\n",
        "\n",
        "\n",
        "\n",
        "\n",
        "Finally, the vertices are processed in a manner that ensures any vertex\n",
        "𝑢 appears before its successor\n",
        "𝑣, respecting the edge direction\n",
        "𝑢\n",
        "→\n",
        "𝑣\n",
        "\n",
        "\n",
        "This implementation ensures that for any edge\n",
        "𝑢\n",
        "→\n",
        "𝑣\n",
        "\n",
        "𝑢 comes before\n",
        "𝑣 in the final ordering, which is the key property of a topological sort.\n",
        "\n"
      ],
      "metadata": {
        "id": "wrb4lPHdyyqo"
      }
    },
    {
      "cell_type": "code",
      "source": [],
      "metadata": {
        "id": "eCMdiF6azjA5"
      },
      "execution_count": null,
      "outputs": []
    }
  ]
}